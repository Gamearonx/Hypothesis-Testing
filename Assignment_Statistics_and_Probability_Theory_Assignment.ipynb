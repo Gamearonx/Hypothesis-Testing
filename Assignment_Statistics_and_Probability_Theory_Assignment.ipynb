{
  "nbformat": 4,
  "nbformat_minor": 0,
  "metadata": {
    "colab": {
      "provenance": [],
      "authorship_tag": "ABX9TyM/SREETQr5YcOlquvu82Qg",
      "include_colab_link": true
    },
    "kernelspec": {
      "name": "python3",
      "display_name": "Python 3"
    },
    "language_info": {
      "name": "python"
    }
  },
  "cells": [
    {
      "cell_type": "markdown",
      "metadata": {
        "id": "view-in-github",
        "colab_type": "text"
      },
      "source": [
        "<a href=\"https://colab.research.google.com/github/Gamearonx/Hypothesis-Testing/blob/main/Assignment_Statistics_and_Probability_Theory_Assignment.ipynb\" target=\"_parent\"><img src=\"https://colab.research.google.com/assets/colab-badge.svg\" alt=\"Open In Colab\"/></a>"
      ]
    },
    {
      "cell_type": "markdown",
      "source": [],
      "metadata": {
        "id": "r44BelkqJZaw"
      }
    },
    {
      "cell_type": "code",
      "source": [
        "import numpy as np\n",
        "from scipy import stats"
      ],
      "metadata": {
        "id": "bJNG4YJBbDmz"
      },
      "execution_count": null,
      "outputs": []
    },
    {
      "cell_type": "code",
      "source": [
        "### Question 1: Calculate the mean, median, and standard deviation for the following dataset: [10, 15, 20, 25,\n",
        "## 30].\n",
        "\n",
        "import numpy as np\n",
        "\n",
        "# Dataset\n",
        "data = np.array([10, 15, 20, 25, 30])\n",
        "\n",
        "# Calculations\n",
        "mean = np.mean(data)\n",
        "median = np.median(data)\n",
        "std_dev = np.std(data, ddof=0)\n",
        "\n",
        "mean, median, std_dev\n"
      ],
      "metadata": {
        "colab": {
          "base_uri": "https://localhost:8080/"
        },
        "id": "pcF6Zgl9DCGY",
        "outputId": "c8e138f0-13e6-4ab9-d221-b666c4e77552"
      },
      "execution_count": null,
      "outputs": [
        {
          "output_type": "execute_result",
          "data": {
            "text/plain": [
              "(20.0, 20.0, 7.0710678118654755)"
            ]
          },
          "metadata": {},
          "execution_count": 11
        }
      ]
    },
    {
      "cell_type": "code",
      "source": [
        "### Result: Mean: 20.0, Median: 20.0, Standard Deviation: 7.07 (rounded to two decimal places)"
      ],
      "metadata": {
        "id": "bTyZVYQYDSWY"
      },
      "execution_count": null,
      "outputs": []
    },
    {
      "cell_type": "code",
      "source": [
        "### Question 2: A researcher wants to estimate the average height of students in a university. She samples\n",
        "## 50 students and finds the mean height to be 65 inches with a standard deviation of 3 inches.\n",
        "## Construct a 95% confidence interval for the population mean height.\n",
        "\n",
        "from scipy.stats import norm\n",
        "import numpy as np\n",
        "\n",
        "# Given data\n",
        "n, mean, std_dev = 50, 65, 3\n",
        "\n",
        "# confidence interval\n",
        "se = std_dev / np.sqrt(n)\n",
        "margin = norm.ppf(0.975) * se\n",
        "ci = (mean - margin, mean + margin)\n",
        "\n",
        "print(ci)\n"
      ],
      "metadata": {
        "colab": {
          "base_uri": "https://localhost:8080/"
        },
        "id": "6h2yYGOzEuWp",
        "outputId": "467322a7-52c9-4fed-e471-69f8791ff92e"
      },
      "execution_count": null,
      "outputs": [
        {
          "output_type": "stream",
          "name": "stdout",
          "text": [
            "(64.1684577053902, 65.8315422946098)\n"
          ]
        }
      ]
    },
    {
      "cell_type": "code",
      "source": [
        "### Result:: Sample mean = 65\n",
        "### Margin of error ≈ 0.83\n",
        "### Lower Bound=65−0.83=64.17\n",
        "### Upper Bound=65+0.83=65.83\n",
        "### So, ci = (64.17, 65.83).  We are 95% confident that the true mean height is between 64.17 and 65.83 inches."
      ],
      "metadata": {
        "id": "-fRkA4iyGaSb"
      },
      "execution_count": null,
      "outputs": []
    },
    {
      "cell_type": "code",
      "source": [
        "### Questions 3 :: A manufacturer claims that the average lifespan of its light bulbs is 1000 hours. A random\n",
        "### sample of 50 light bulbs has a mean lifespan of 980 hours with a standard deviation of 50 hours.\n",
        "### Test the manufacturer's claim at a significance level of 0.05 using a right-tailed hypothesis test.\n",
        "\n",
        "from scipy.stats import t\n",
        "import numpy as np\n",
        "\n",
        "# Given data\n",
        "n, sample_mean, pop_mean, sample_std_dev = 50, 980, 1000, 50\n",
        "alpha = 0.05\n",
        "\n",
        "# Compute test statistic (t-score)\n",
        "se = sample_std_dev / np.sqrt(n)\n",
        "t_score = (sample_mean - pop_mean) / se\n",
        "\n",
        "# Find critical t-value\n",
        "t_critical = t.ppf(1 - alpha, df=n-1)\n",
        "\n",
        "# Decision rule\n",
        "reject_null = t_score > t_critical\n",
        "\n",
        "print(f\"T-score: {t_score:.2f}, Critical T: {t_critical:.2f}, Reject Null: {reject_null}\")\n"
      ],
      "metadata": {
        "colab": {
          "base_uri": "https://localhost:8080/"
        },
        "id": "0EqaRp-lHlX0",
        "outputId": "52fc93c8-6613-4a39-aab8-fbf640294494"
      },
      "execution_count": null,
      "outputs": [
        {
          "output_type": "stream",
          "name": "stdout",
          "text": [
            "T-score: -2.83, Critical T: 1.68, Reject Null: False\n"
          ]
        }
      ]
    },
    {
      "cell_type": "code",
      "source": [
        "### Result:: The test shows that the sample data does not provide enough evidence to prove the bulbs last less than 1000 hours, so the manufacturer's claim stands true."
      ],
      "metadata": {
        "id": "Ca88I847KY1b"
      },
      "execution_count": null,
      "outputs": []
    },
    {
      "cell_type": "markdown",
      "source": [],
      "metadata": {
        "id": "sbbtgtVhJaQZ"
      }
    },
    {
      "cell_type": "code",
      "source": [
        "### Question 4: A pharmaceutical company is testing a new drug for lowering blood pressure. They want to\n",
        "### determine if the drug is effective in reducing blood pressure levels. State the null and alternative\n",
        "### hypotheses for this study\n",
        "\n",
        "def test_blood_pressure(before, after):\n",
        "    \"\"\"\n",
        "    Perform a t-test to determine if the drug significantly lowers blood pressure.\n",
        "\n",
        "    Parameters:\n",
        "    before (list or array): Blood pressure levels before taking the drug.\n",
        "    after (list or array): Blood pressure levels after taking the drug.\n",
        "\n",
        "    Returns:\n",
        "    str: Hypothesis test result.\n",
        "    \"\"\"\n",
        "    # Perform a paired t-test\n",
        "    t_stat, p_value = stats.ttest_rel(before, after)\n",
        "\n",
        "    # Set the significance level\n",
        "    alpha = 0.05\n",
        "\n",
        "    # State the result based on the p-value\n",
        "    if p_value < alpha:\n",
        "        return f\"Reject the null hypothesis (p-value = {p_value:.4f}). The drug is effective in lowering blood pressure.\"\n",
        "    else:\n",
        "        return f\"Fail to reject the null hypothesis (p-value = {p_value:.4f}). The drug is not effective in lowering blood pressure.\"\n",
        "\n",
        "# Example usage:\n",
        "before_treatment = [140, 145, 138, 150, 160]\n",
        "after_treatment = [130, 135, 125, 140, 145]\n",
        "\n",
        "result = test_blood_pressure(before_treatment, after_treatment)\n",
        "print(result)\n",
        "\n"
      ],
      "metadata": {
        "colab": {
          "base_uri": "https://localhost:8080/"
        },
        "id": "jZDdGgoCLFYC",
        "outputId": "539aa703-1e20-40a9-db4f-a54403553ce3"
      },
      "execution_count": null,
      "outputs": [
        {
          "output_type": "stream",
          "name": "stdout",
          "text": [
            "Reject the null hypothesis (p-value = 0.0004). The drug is effective in lowering blood pressure.\n"
          ]
        }
      ]
    },
    {
      "cell_type": "code",
      "source": [],
      "metadata": {
        "id": "RxCaVJtMddyB"
      },
      "execution_count": null,
      "outputs": []
    },
    {
      "cell_type": "code",
      "source": [
        "### Question 5: A quality control manager at a factory wants to ensure that the average weight of products\n",
        "# coming off the production line is 500 grams. She takes a random sample of 30 products and\n",
        "# finds the mean weight to be 495 grams with a standard deviation of 10 grams. Test the\n",
        "# manager's claim at a significance level of 0.01 using a left-tailed hypothesis test.\n",
        "\n",
        "\n",
        "import scipy.stats as stats\n",
        "import numpy as np\n",
        "\n",
        "# Given data\n",
        "n, mean, pop_mean, std_dev, alpha = 30, 495, 500, 10, 0.01\n",
        "\n",
        "t_score = (mean - pop_mean) / (std_dev / np.sqrt(n))\n",
        "critical_t = stats.t.ppf(alpha, n - 1)\n",
        "p_value = stats.t.cdf(t_score, n - 1)\n",
        "\n",
        "print(f\"T-score: {t_score:.4f}\\nCritical T-value: {critical_t:.4f}\\nP-value: {p_value:.4f}\")\n",
        "print(\"Reject the null hypothesis.\" if t_score < critical_t else \"Fail to reject the null hypothesis.\")\n",
        "\n"
      ],
      "metadata": {
        "colab": {
          "base_uri": "https://localhost:8080/"
        },
        "id": "TI99T_F675N4",
        "outputId": "b97af20e-4693-4c11-c970-f2ee8651af1a"
      },
      "execution_count": 2,
      "outputs": [
        {
          "output_type": "stream",
          "name": "stdout",
          "text": [
            "T-score: -2.7386\n",
            "Critical T-value: -2.4620\n",
            "P-value: 0.0052\n",
            "Reject the null hypothesis.\n"
          ]
        }
      ]
    },
    {
      "cell_type": "code",
      "source": [
        "# At a 0.01 significance level, there is sufficient evidence to conclude that the average weight of the products is less than 500 grams. The quality control manager should investigate potential production issues"
      ],
      "metadata": {
        "id": "0jxfdDUo8X6G"
      },
      "execution_count": null,
      "outputs": []
    }
  ]
}