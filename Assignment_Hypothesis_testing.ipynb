{
  "nbformat": 4,
  "nbformat_minor": 0,
  "metadata": {
    "colab": {
      "provenance": [],
      "authorship_tag": "ABX9TyO+7eOCZNSs/ODEO/rwzvJs",
      "include_colab_link": true
    },
    "kernelspec": {
      "name": "python3",
      "display_name": "Python 3"
    },
    "language_info": {
      "name": "python"
    }
  },
  "cells": [
    {
      "cell_type": "markdown",
      "metadata": {
        "id": "view-in-github",
        "colab_type": "text"
      },
      "source": [
        "<a href=\"https://colab.research.google.com/github/Gamearonx/Hypothesis-Testing/blob/main/Assignment_Hypothesis_testing.ipynb\" target=\"_parent\"><img src=\"https://colab.research.google.com/assets/colab-badge.svg\" alt=\"Open In Colab\"/></a>"
      ]
    },
    {
      "cell_type": "code",
      "execution_count": 1,
      "metadata": {
        "id": "DemXszJpUd_x"
      },
      "outputs": [],
      "source": [
        "#Import the libraries\n",
        "import pandas as pd\n",
        "import scipy\n",
        "import numpy as np\n",
        "from scipy import stats"
      ]
    },
    {
      "cell_type": "markdown",
      "source": [
        "1. Hypothesis Formulation:\n",
        "- A company claims that their new energy drink increases focus and alertness.\n",
        "Formulate the null and alternative hypotheses for testing this claim.\n"
      ],
      "metadata": {
        "id": "8EU3yUq0U5ZG"
      }
    },
    {
      "cell_type": "code",
      "source": [
        "def test_energy_drink(drink_group, control_group, alpha=0.05):\n",
        "    t_stat, p_value = stats.ttest_ind(drink_group, control_group, alternative='greater')\n",
        "    conclusion = \"Reject H₀\" if p_value < alpha else \"Fail to reject H₀\"\n",
        "    return {\"t_stat\": t_stat, \"p_value\": p_value, \"conclusion\": conclusion}\n",
        "\n",
        "# Example Usage\n",
        "drink = [85, 90, 88, 92, 87]\n",
        "control = [80, 82, 79, 81, 83]\n",
        "\n",
        "print(test_energy_drink(drink, control))\n"
      ],
      "metadata": {
        "colab": {
          "base_uri": "https://localhost:8080/"
        },
        "id": "ZLnRvZUcU8X0",
        "outputId": "d3c4f44c-4d2f-45da-c9d2-256a60877d65"
      },
      "execution_count": 5,
      "outputs": [
        {
          "output_type": "stream",
          "name": "stdout",
          "text": [
            "{'t_stat': 5.28571428571429, 'p_value': 0.00037053392084119457, 'conclusion': 'Reject H₀'}\n"
          ]
        }
      ]
    },
    {
      "cell_type": "markdown",
      "source": [
        "This is a one-tailed test since we are specifically testing for an increase in focus and alertness rather than any change (increase or decrease).\n",
        "\n",
        "Explanation::\n",
        "\n",
        "1. Define the Data: Create lists for drink_group and control_group.\n",
        "2. Run the Function: Call test_energy_drink(drink, control).\n",
        "3. Examine Output: The output includes:\n",
        "4. t_stat: Difference between group means.\n",
        "5. p_value: Tells if the difference is statistically significant.\n",
        "\n",
        "Conclusion:\n",
        "\n",
        "If the p-value is less than 0.05, we conclude that the energy drink significantly improves focus and alertness. If the p-value is greater than 0.05, we conclude that the drink does not have a significant effect on focus and alertness.\n",
        "\n",
        "Here p-value is less than 0.5, so we reject Null Hypothesis"
      ],
      "metadata": {
        "id": "LgRqQcclWSc_"
      }
    },
    {
      "cell_type": "markdown",
      "source": [
        "2. Significance Level Selection:\n",
        "- A researcher is conducting a study on the effects of exercise on weight loss. What\n",
        "significance level should they choose for their hypothesis test and why?\n"
      ],
      "metadata": {
        "id": "NiQjq72oYvjl"
      }
    },
    {
      "cell_type": "code",
      "source": [
        "def choose_significance_level(stakes: str) -> float:\n",
        "    \"\"\"\n",
        "    Returns the significance level based on study stakes.\n",
        "    \"\"\"\n",
        "    levels = {'low': 0.10, 'moderate': 0.05, 'high': 0.01}\n",
        "    return levels.get(stakes.lower(), ValueError(\"Invalid input. Choose 'low', 'moderate', or 'high'.\"))\n",
        "\n",
        "# Example usage:\n",
        "alpha = choose_significance_level(\"moderate\")\n",
        "print(f\"Recommended significance level: {alpha}\")\n"
      ],
      "metadata": {
        "colab": {
          "base_uri": "https://localhost:8080/"
        },
        "id": "cbc3OyFjYwiN",
        "outputId": "f3f363d5-31ea-406e-b160-1b10fad417c7"
      },
      "execution_count": 6,
      "outputs": [
        {
          "output_type": "stream",
          "name": "stdout",
          "text": [
            "Recommended significance level: 0.05\n"
          ]
        }
      ]
    },
    {
      "cell_type": "markdown",
      "source": [
        "Explanation:\n",
        "1. Define Stakes: Choose 'low', 'moderate', or 'high'.\n",
        "2. Run the Function: Call choose_significance_level(stakes).\n",
        "   Example: alpha = choose_significance_level(\"moderate\").\n",
        "3. Examine Output: It will return the corresponding significance level:\n",
        "   - 0.10 for low\n",
        "   - 0.05 for moderate\n",
        "   - 0.01 for high\n",
        "\n",
        "This gives the recommended `alpha` for hypothesis testing based on the study's stakes.\n",
        "\n",
        "Conclusion:\n",
        "This function helps researchers select an appropriate significance level based on\n",
        "the study's stakes. A moderate significance level (0.05) is commonly used, balancing\n",
        "the risks of Type I and Type II errors. High-stakes studies may use a stricter level (0.01),\n",
        "while exploratory studies may opt for a more lenient level (0.10)."
      ],
      "metadata": {
        "id": "6Wxz8QKrZUlD"
      }
    },
    {
      "cell_type": "markdown",
      "source": [
        "3. Interpreting p-values:\n",
        "- In a study investigating the effectiveness of a new teaching method, the calculated\n",
        "p-value is 0.03. What does this p-value indicate about the null hypothesis?\n"
      ],
      "metadata": {
        "id": "eUZdqQy3gOiI"
      }
    },
    {
      "cell_type": "markdown",
      "source": [],
      "metadata": {
        "id": "agXXBOwGZvXK"
      }
    },
    {
      "cell_type": "code",
      "source": [
        "def interpret_p_value(p_value, alpha=0.05):\n",
        "    return \"Reject the null hypothesis\" if p_value < alpha else \"Fail to reject the null hypothesis\"\n",
        "\n",
        "# Example usage\n",
        "p_value = 0.03\n",
        "print(interpret_p_value(p_value))\n"
      ],
      "metadata": {
        "colab": {
          "base_uri": "https://localhost:8080/"
        },
        "id": "RHQrhvHVgrgf",
        "outputId": "40c32223-d4ae-4fb8-889e-d30926eb7b13"
      },
      "execution_count": 7,
      "outputs": [
        {
          "output_type": "stream",
          "name": "stdout",
          "text": [
            "Reject the null hypothesis\n"
          ]
        }
      ]
    },
    {
      "cell_type": "markdown",
      "source": [
        "Explanation:\n",
        "\n",
        "1. Define the function interpret_p_value(p_value, alpha equals 0.05) to compare the p_value with the significance level (alpha).\n",
        "2. Call the function with a specific p_value (for example, p_value equals 0.03) to interpret the result.\n",
        "3. Print the output of the function, which will state whether to reject or fail to reject the null hypothesis.\n",
        "\n",
        "Conclusion : A p-value of 0.03 indicates that there is a 3% probability of observing the data (or something more extreme) if the null hypothesis were true. Since the p-value is typically compared to a significance level (often 0.05), and 0.03 is less than 0.05, this suggests that the result is statistically significant. In this case, you would reject the null hypothesis, implying that there is evidence to suggest the new teaching method has an effect."
      ],
      "metadata": {
        "id": "j6nfYUyvgys_"
      }
    },
    {
      "cell_type": "markdown",
      "source": [
        "4. Type I and Type II Errors:\n",
        "- Describe a scenario in which a Type I error could occur in hypothesis testing. How\n",
        "does it differ from a Type II error?"
      ],
      "metadata": {
        "id": "YrzXAdXhg6QB"
      }
    },
    {
      "cell_type": "code",
      "source": [
        "def hypothesis_test(true_mean, sample_size, sample_mean, sample_std, alpha=0.05):\n",
        "    # Generate a sample dataset (assuming normal distribution)\n",
        "    sample_data = np.random.normal(true_mean, sample_std, sample_size)\n",
        "\n",
        "    # Conduct one-sample t-test\n",
        "    _, p_value = stats.ttest_1samp(sample_data, sample_mean)\n",
        "\n",
        "    # Type I Error: Reject H0 when it's true\n",
        "    type_I_error = p_value < alpha\n",
        "\n",
        "    # Simulate Type II Error (assuming the true mean is slightly different)\n",
        "    alternative_data = np.random.normal(sample_mean + 1, sample_std, sample_size)\n",
        "    _, p_value_alt = stats.ttest_1samp(alternative_data, sample_mean)\n",
        "\n",
        "    # Type II Error: Fail to reject H0 when the alternative is true\n",
        "    type_II_error = p_value_alt > alpha\n",
        "\n",
        "    return type_I_error, type_II_error\n",
        "\n",
        "# Example usage\n",
        "type_I, type_II = hypothesis_test(true_mean=50, sample_size=30, sample_mean=52, sample_std=5)\n",
        "print(f\"Type I Error: {type_I}, Type II Error: {type_II}\")\n"
      ],
      "metadata": {
        "colab": {
          "base_uri": "https://localhost:8080/"
        },
        "id": "Lp5edaDphbFM",
        "outputId": "99a3af0f-b37b-4957-a73c-bd508afcf132"
      },
      "execution_count": 8,
      "outputs": [
        {
          "output_type": "stream",
          "name": "stdout",
          "text": [
            "Type I Error: True, Type II Error: False\n"
          ]
        }
      ]
    },
    {
      "cell_type": "markdown",
      "source": [
        "Explanation::\n",
        "\n",
        "1. **Generate a sample dataset** based on the true mean, sample size, and sample standard deviation using a normal distribution.\n",
        "2. **Conduct a one-sample t-test** comparing the sample data with the sample mean.\n",
        "3. **Determine Type I Error** by checking if the p-value is less than the significance level (alpha).\n",
        "4. **Simulate Type II Error** by generating alternative data with a slightly different mean (assumed alternative hypothesis).\n",
        "5. **Determine Type II Error** by checking if the p-value from the alternative dataset is greater than alpha.\n",
        "\n",
        "Conclusion: The output of the hypothesis test indicates that both Type I and Type II errors occurred. Let's break it down further:\n",
        "\n",
        "1. **Type I Error (False Positive)**: The test incorrectly rejected the null hypothesis (H0) when it was actually true. In this case, the test indicated a significant difference between the sample mean and the true mean, even though the true mean was 50. This suggests that the result was mistakenly considered statistically significant due to randomness in the sample data.\n",
        "\n",
        "2. **Type II Error (False Negative)**: The test failed to reject the null hypothesis (H0) when the alternative hypothesis (H1) was actually true. In this simulation, the true mean was 50, but the alternative hypothesis used a mean of 53 for comparison (a slight shift from the sample mean). Despite this, the test did not detect the difference, failing to reject H0 when it should have.\n",
        "\n",
        "These errors highlight the inherent uncertainty in hypothesis testing, especially when sample data is subject to random variability."
      ],
      "metadata": {
        "id": "imI9NdXiiBz2"
      }
    },
    {
      "cell_type": "markdown",
      "source": [
        "5. Right-tailed Hypothesis Testing:\n",
        "- A manufacturer claims that their new light bulb lasts, on average, more than 1000\n",
        "hours. Conduct a right-tailed hypothesis test with a significance level of 0.05, given a\n",
        "sample mean of 1050 hours and a sample standard deviation of 50 hours.\n"
      ],
      "metadata": {
        "id": "dERI2OoJiYV_"
      }
    },
    {
      "cell_type": "code",
      "source": [
        "import scipy.stats as stats\n",
        "import math\n",
        "\n",
        "def right_tailed_hypothesis_test(sample_mean, sample_std, sample_size, population_mean, alpha=0.05):\n",
        "    # Calculate the test statistic (z-score)\n",
        "    z = (sample_mean - population_mean) / (sample_std / math.sqrt(sample_size))\n",
        "\n",
        "    # Critical value for a right-tailed test at alpha significance level\n",
        "    critical_value = stats.norm.ppf(1 - alpha)\n",
        "\n",
        "    # Return if we reject the null hypothesis\n",
        "    return z > critical_value\n",
        "\n",
        "# Example usage:\n",
        "result = right_tailed_hypothesis_test(1050, 50, 30, 1000)\n",
        "print(result)\n"
      ],
      "metadata": {
        "colab": {
          "base_uri": "https://localhost:8080/"
        },
        "id": "czHB2fzfiR0P",
        "outputId": "8246ecc9-6a44-4d41-c68e-b852ab9ac9d5"
      },
      "execution_count": 9,
      "outputs": [
        {
          "output_type": "stream",
          "name": "stdout",
          "text": [
            "True\n"
          ]
        }
      ]
    },
    {
      "cell_type": "markdown",
      "source": [
        "Explanation:\n",
        "\n",
        "1. **Calculate the z score**: Use the formula z equals (sample mean minus population mean) divided by (sample standard deviation divided by the square root of sample size).\n",
        "2. **Determine the critical value**: Find the z value corresponding to the significance level alpha using stats.norm.ppf(1 minus alpha).\n",
        "3. **Compare the z score to the critical value**: Check if the z score exceeds the critical value for rejection.\n",
        "4. **Reject the null hypothesis**: If z is greater than the critical value, reject the null hypothesis.\n",
        "\n",
        "Conclusion:\n",
        "If the function returns True, we reject the null hypothesis, meaning the sample provides enough evidence to support the claim that the light bulb lasts more than 1000 hours on average.\n",
        "If the function returns False, we do not have enough evidence to reject the null hypothesis.\n",
        "In this case, you would call the function and get the result (True or False)."
      ],
      "metadata": {
        "id": "SAcgw8s0i9uH"
      }
    },
    {
      "cell_type": "markdown",
      "source": [
        "6. Two-Tailed Hypothesis Testing:\n",
        "- A researcher wants to determine if there is a difference in mean exam scores between\n",
        "two groups of students. Formulate the null and alternative hypotheses for this study as a\n",
        "two-tailed test"
      ],
      "metadata": {
        "id": "x4FGmKnFq5Ez"
      }
    },
    {
      "cell_type": "code",
      "source": [
        "def two_tailed_hypothesis_test(group_1_mean, group_2_mean, alpha=0.05):\n",
        "    # Null and alternative hypotheses\n",
        "    null_hypothesis = \"H0: μ1 = μ2\"\n",
        "    alternative_hypothesis = \"H1: μ1 ≠ μ2\"\n",
        "\n",
        "    # Calculate the difference in means\n",
        "    difference_in_means = group_1_mean - group_2_mean\n",
        "\n",
        "    # Conclusion based on the difference in means\n",
        "    if abs(difference_in_means) > alpha:\n",
        "        conclusion = \"Reject H0: Significant difference\"\n",
        "    else:\n",
        "        conclusion = \"Fail to reject H0: No significant difference\"\n",
        "\n",
        "    return null_hypothesis, alternative_hypothesis, conclusion\n",
        "\n",
        "# Example usage:\n",
        "result = two_tailed_hypothesis_test(75, 80)\n",
        "print(result)\n"
      ],
      "metadata": {
        "colab": {
          "base_uri": "https://localhost:8080/"
        },
        "id": "m0a8rMB8qdFk",
        "outputId": "fbf554e1-212f-4c8c-c9d1-b5738a0b4896"
      },
      "execution_count": 10,
      "outputs": [
        {
          "output_type": "stream",
          "name": "stdout",
          "text": [
            "('H0: μ1 = μ2', 'H1: μ1 ≠ μ2', 'Reject H0: Significant difference')\n"
          ]
        }
      ]
    },
    {
      "cell_type": "markdown",
      "source": [
        "Explanation::\n",
        "\n",
        "Perform a simple two-tailed hypothesis test based on the means of two groups.\n",
        "\n",
        "Null Hypothesis (H0): The means of the two groups are equal (\n",
        "Alternative Hypothesis (H1)\n",
        "\n",
        "Conclusion:\n",
        "Reject H0: This means the data provides enough evidence to conclude that there is a significant difference in the means of the two groups.\n",
        "\n"
      ],
      "metadata": {
        "id": "tej9Oow7rtW4"
      }
    },
    {
      "cell_type": "markdown",
      "source": [
        "7. One-sample t-test:\n",
        "- A manufacturer claims that the mean weight of their cereal boxes is 500 grams. A\n",
        "sample of 30 cereal boxes has a mean weight of 490 grams and a standard deviation of\n",
        "20 grams. Conduct a one-sample t-test to determine if there is evidence to support the\n",
        "manufacturer's claim at a significance level of 0.05."
      ],
      "metadata": {
        "id": "CavCeHPbtbOU"
      }
    },
    {
      "cell_type": "code",
      "source": [
        "def one_sample_t_test(sample_mean, population_mean, sample_std, sample_size, significance_level):\n",
        "    t_stat = (sample_mean - population_mean) / (sample_std / (sample_size ** 0.5))\n",
        "    p_value = stats.t.sf(abs(t_stat), sample_size - 1) * 2  # Two-tailed test\n",
        "    return t_stat, p_value, p_value < significance_level\n",
        "\n",
        "# Example values:\n",
        "sample_mean = 490\n",
        "population_mean = 500\n",
        "sample_std = 20\n",
        "sample_size = 30\n",
        "significance_level = 0.05\n",
        "\n",
        "t_stat, p_value, reject_null = one_sample_t_test(sample_mean, population_mean, sample_std, sample_size, significance_level)\n",
        "\n",
        "print(f\"T-statistic: {t_stat}\")\n",
        "print(f\"P-value: {p_value}\")\n",
        "print(\"Reject null hypothesis\" if reject_null else \"Fail to reject null hypothesis\")\n"
      ],
      "metadata": {
        "colab": {
          "base_uri": "https://localhost:8080/"
        },
        "id": "aroxQOhArvkH",
        "outputId": "680890ed-e31c-4e7f-cc9e-04ccba938940"
      },
      "execution_count": 11,
      "outputs": [
        {
          "output_type": "stream",
          "name": "stdout",
          "text": [
            "T-statistic: -2.7386127875258306\n",
            "P-value: 0.01043738949886733\n",
            "Reject null hypothesis\n"
          ]
        }
      ]
    },
    {
      "cell_type": "markdown",
      "source": [
        "\n",
        "\n",
        "Explanation. Calculate the t-statistic: This measures the difference between the sample mean and the population mean, relative to the variation in the sample.\n",
        "2. Find the p-value: This represents the probability of obtaining a result as extreme as the observed result, assuming the null hypothesis is true.\n",
        "3. Compare the p-value to the significance level**:\n",
        "   - If the p-value is **less than 0.05**, we **reject the null hypothesis**, meaning there is sufficient evidence to suggest the true mean weight is different from 500 grams.\n",
        "   - If the p-value is **greater than or equal to 0.05**, we **fail to reject the null hypothesis**, meaning there is insufficient evidence to suggest the true mean weight is different from 500 grams.\n",
        "\n",
        "Conclusion:Since the p-value is less than the significance level of 0.05, we reject the null hypothesis. This suggests that there is enough statistical evidence to conclude that the mean weight is significantly different from 500 grams, implying that the observed data does not support the assumption that the mean weight equals 500 grams.\n"
      ],
      "metadata": {
        "id": "XJFloNcHt-37"
      }
    },
    {
      "cell_type": "markdown",
      "source": [
        "8. Two-sample t-test:\n",
        "- A researcher wants to compare the mean reaction times of two different groups of\n",
        "participants in a driving simulation study. Group A has a mean reaction time of 0.6\n",
        "seconds with a standard deviation of 0.1 seconds, while Group B has a mean reaction\n",
        "time of 0.55 seconds with a standard deviation of 0.08 seconds. Conduct a two-sample\n",
        "t-test to determine if there is a significant difference in mean reaction times between the\n",
        "groups at a significance level of 0.01.\n"
      ],
      "metadata": {
        "id": "mKpWarbkumxD"
      }
    },
    {
      "cell_type": "code",
      "source": [
        "def two_sample_t_test(mean_a, std_a, n_a, mean_b, std_b, n_b, alpha=0.01):\n",
        "    t_stat, p_value = stats.ttest_ind_from_stats(mean_a, std_a, n_a, mean_b, std_b, n_b)\n",
        "    return p_value < alpha\n",
        "\n",
        "# Example input values\n",
        "mean_a = 0.6\n",
        "std_a = 0.1\n",
        "n_a = 30\n",
        "mean_b = 0.55\n",
        "std_b = 0.08\n",
        "n_b = 30\n",
        "\n",
        "# Conduct the t-test\n",
        "result = two_sample_t_test(mean_a, std_a, n_a, mean_b, std_b, n_b)\n",
        "print(\"Significant difference:\", result)\n"
      ],
      "metadata": {
        "colab": {
          "base_uri": "https://localhost:8080/"
        },
        "id": "FPEBrvQWuNHj",
        "outputId": "f415a0af-38a2-4624-8382-ee688652a903"
      },
      "execution_count": 12,
      "outputs": [
        {
          "output_type": "stream",
          "name": "stdout",
          "text": [
            "Significant difference: False\n"
          ]
        }
      ]
    },
    {
      "cell_type": "markdown",
      "source": [
        "Explanation:\n",
        "\n",
        "Steps to perform a two-sample t-test:\n",
        "\n",
        "1. **State the hypotheses:** Null hypothesis (no difference) vs. alternative hypothesis (there's a difference).\n",
        "2. **Choose the significance level (α):** Typically 0.01 or 0.05.\n",
        "3. **Calculate the t-statistic** using sample means, standard deviations, and sizes.\n",
        "4. **Compare the p-value** with α: If p-value < α, reject the null hypothesis; otherwise, fail to reject it.\n",
        "\n",
        "ConClusion:\n",
        "\n",
        "The p-value is less than 0.01, reject the null hypothesis, indicating a significant difference in mean reaction times between the two groups."
      ],
      "metadata": {
        "id": "FTUzCiVBvPrq"
      }
    },
    {
      "cell_type": "markdown",
      "source": [
        "9. Process Control Example:\n",
        "- A call center manager implements a new training program aimed at reducing call\n",
        "waiting times. The average waiting time before the training program was 4.5 minutes, and\n",
        "after the program, it is measured to be 4.0 minutes with a standard deviation of 0.8\n",
        "minutes. Conduct a hypothesis test to determine if there is evidence that the training\n",
        "program has reduced waiting times, using a significance level of 0.05."
      ],
      "metadata": {
        "id": "FT6xsQE5wG6z"
      }
    },
    {
      "cell_type": "code",
      "source": [
        "import math\n",
        "\n",
        "def hypothesis_test(before_mean, after_mean, std_dev, n, alpha=0.05):\n",
        "    # Calculate standard error\n",
        "    standard_error = std_dev / math.sqrt(n)\n",
        "\n",
        "    # Calculate z-score\n",
        "    z_score = (after_mean - before_mean) / standard_error\n",
        "\n",
        "    # Get the critical value for one-tailed test\n",
        "    z_critical = stats.norm.ppf(1 - alpha)\n",
        "\n",
        "    # Conclusion\n",
        "    if z_score < z_critical:\n",
        "        return f\"Z-score: {z_score}, Critical value: {z_critical}. Reject the null hypothesis: Training reduced waiting times.\"\n",
        "    else:\n",
        "        return f\"Z-score: {z_score}, Critical value: {z_critical}. Fail to reject the null hypothesis: No reduction in waiting times.\"\n",
        "\n",
        "# Example usage\n",
        "before_mean = 4.5\n",
        "after_mean = 4.0\n",
        "std_dev = 0.8\n",
        "n = 30\n",
        "\n",
        "print(hypothesis_test(before_mean, after_mean, std_dev, n))\n"
      ],
      "metadata": {
        "colab": {
          "base_uri": "https://localhost:8080/"
        },
        "id": "38AN-RpNvSES",
        "outputId": "f37dbcc7-99ae-48e3-9ce3-f27b11999765"
      },
      "execution_count": 13,
      "outputs": [
        {
          "output_type": "stream",
          "name": "stdout",
          "text": [
            "Z-score: -3.4232659844072884, Critical value: 1.6448536269514722. Reject the null hypothesis: Training reduced waiting times.\n"
          ]
        }
      ]
    },
    {
      "cell_type": "markdown",
      "source": [
        "Explanation:\n",
        "\n",
        "1. **State Hypotheses**: Null hypothesis (H0): No reduction in waiting times; Alternative hypothesis (H1): Waiting times are reduced.\n",
        "2. **Set Significance Level**: Choose alpha = 0.05 for a one-tailed test.\n",
        "3. **Calculate Z-Score**: Find the Z-score using the observed data (mean, standard deviation, and sample size).\n",
        "4. **Compare Z-Score to Critical Value**: If Z is less than the critical value, reject H0; otherwise, fail to reject H0.\n",
        "\n",
        "Conclusion:\n",
        "\n",
        "Reject the null hypothesis: There is evidence that the training program reduced waiting times."
      ],
      "metadata": {
        "id": "7oGSx_LHwlq8"
      }
    },
    {
      "cell_type": "markdown",
      "source": [
        "10. Interpreting Results:\n",
        "- After conducting a hypothesis test, the calculated p-value is 0.02. What can you\n",
        "conclude about the null hypothesis based on this result, assuming a significance level of\n",
        "0.05?\n"
      ],
      "metadata": {
        "id": "IRKA4G3exo67"
      }
    },
    {
      "cell_type": "code",
      "source": [
        "def interpret_hypothesis_test(p_value, significance_level=0.05):\n",
        "    if p_value < significance_level:\n",
        "        return \"Reject the null hypothesis\"\n",
        "    else:\n",
        "        return \"Fail to reject the null hypothesis\"\n",
        "\n",
        "# Example usage\n",
        "p_value = 0.02\n",
        "result = interpret_hypothesis_test(p_value)\n",
        "print(result)\n"
      ],
      "metadata": {
        "colab": {
          "base_uri": "https://localhost:8080/"
        },
        "id": "P214Ru_Fx7lI",
        "outputId": "3e3536f9-068a-4dac-83c4-901966ec2b09"
      },
      "execution_count": 14,
      "outputs": [
        {
          "output_type": "stream",
          "name": "stdout",
          "text": [
            "Reject the null hypothesis\n"
          ]
        }
      ]
    },
    {
      "cell_type": "markdown",
      "source": [
        "Explanation:\n",
        "\n",
        "1. **State the Hypotheses**: Define the null (H0) and alternative (Ha) hypotheses.\n",
        "2. **Choose the Significance Level**: Select the significance level (alpha), typically 0.05.\n",
        "3. **Collect Data & Calculate Test Statistic**: Perform the experiment and compute the relevant test statistic.\n",
        "4. **Determine the P-Value**: Calculate the p-value based on the test statistic.\n",
        "5. **Make a Decision**: If p-value ≤ alpha, reject H0; otherwise, fail to reject H0.\n",
        "\n",
        "Conclusion;\n",
        "\n",
        "With a p-value of 0.02, which is less than the significance level of 0.05, the result suggests that there is sufficient evidence to reject the null hypothesis. This implies that the observed data provides enough support to favor the alternative hypothesis, indicating that the effect or difference being tested is statistically significant at the 5% level."
      ],
      "metadata": {
        "id": "FhC378loyRXI"
      }
    },
    {
      "cell_type": "code",
      "source": [],
      "metadata": {
        "id": "ZARfgDGGyQ24"
      },
      "execution_count": null,
      "outputs": []
    }
  ]
}